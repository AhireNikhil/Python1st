{
  "nbformat": 4,
  "nbformat_minor": 0,
  "metadata": {
    "colab": {
      "name": "python1",
      "provenance": []
    },
    "kernelspec": {
      "name": "python3",
      "display_name": "Python 3"
    },
    "language_info": {
      "name": "python"
    }
  },
  "cells": [
    {
      "cell_type": "code",
      "execution_count": 1,
      "metadata": {
        "colab": {
          "base_uri": "https://localhost:8080/"
        },
        "id": "ymcXgzxBEZWI",
        "outputId": "d3e3f163-5052-4e0a-c7df-8ce5a4a08757"
      },
      "outputs": [
        {
          "output_type": "stream",
          "name": "stdout",
          "text": [
            "addition= 16\n",
            "substraction= 10\n",
            "multiplication= 39\n",
            "division= 4.333333333333333\n",
            "power= 2197\n",
            "modulus= 1\n",
            "floor division= 4\n"
          ]
        }
      ],
      "source": [
        "a,b=13,3\n",
        "print(\"addition=\",a+b)\n",
        "print(\"substraction=\",a-b)\n",
        "print(\"multiplication=\",a*b)\n",
        "print(\"division=\",a/b)\n",
        "print(\"power=\",a**b)\n",
        "print(\"modulus=\",a%b)\n",
        "print(\"floor division=\",a//b)\n"
      ]
    }
  ]
}